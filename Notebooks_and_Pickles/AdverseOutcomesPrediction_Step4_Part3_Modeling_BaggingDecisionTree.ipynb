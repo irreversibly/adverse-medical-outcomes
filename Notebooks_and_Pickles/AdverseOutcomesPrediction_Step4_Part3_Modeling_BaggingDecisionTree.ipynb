{
 "cells": [
  {
   "cell_type": "markdown",
   "metadata": {},
   "source": [
    "###### Project: Adverse Medical Outcomes Prediction \n",
    "##### Data Scientist: Victoria M. Ng "
   ]
  },
  {
   "cell_type": "markdown",
   "metadata": {
    "heading_collapsed": true
   },
   "source": [
    "# Import libraries"
   ]
  },
  {
   "cell_type": "code",
   "execution_count": 22,
   "metadata": {
    "hidden": true
   },
   "outputs": [],
   "source": [
    "# General system libraries\n",
    "import os\n",
    "import sys\n",
    "from IPython.display import Image, Markdown\n",
    "import logging\n",
    "logging.basicConfig(format='%(asctime)s : %(levelname)s : %(message)s', level=logging.INFO)\n",
    "\n",
    "# Dataframe libraries\n",
    "import pandas as pd\n",
    "from pandas import DataFrame, read_csv\n",
    "\n",
    "# Number manipulation\n",
    "import scipy.sparse\n",
    "from scipy.ndimage.filters import generic_filter\n",
    "import patsy\n",
    "import numpy as np\n",
    "from scipy.stats import randint\n",
    "\n",
    "# Plotting libaries\n",
    "import matplotlib.pyplot as plt\n",
    "import seaborn as sns\n",
    "plt.style.use('ggplot')\n",
    "%matplotlib inline\n",
    "\n",
    "# Data type libaries\n",
    "from datetime import datetime as dt\n",
    "\n",
    "# File manipulation\n",
    "import pickle\n",
    "import pandas.io.sql as pd_sql\n",
    "from sqlalchemy import create_engine\n",
    "import psycopg2 as pg\n",
    "\n",
    "# NLP libraries\n",
    "import wikipedia as wiki\n",
    "from nltk import word_tokenize, sent_tokenize,FreqDist\n",
    "from nltk.corpus import stopwords\n",
    "import gensim as gn\n",
    "from gensim import corpora, models, similarities\n",
    "from collections import defaultdict\n",
    "from six import iteritems\n",
    "from sklearn.feature_extraction.stop_words import ENGLISH_STOP_WORDS\n",
    "from spacy.lang.en.stop_words import STOP_WORDS\n",
    "\n",
    "# Scraping libraries\n",
    "import requests\n",
    "from bs4 import BeautifulSoup\n",
    "from selenium import webdriver\n",
    "from selenium.webdriver.common.keys import Keys\n",
    "import time\n",
    "chromedriver = \"/home/victoria/projects/metis/Project3/chromedriver\"\n",
    "os.environ[\"webdriver.chrome.driver\"] = chromedriver\n",
    "\n",
    "# Stats libaries\n",
    "import statsmodels.api as sm\n",
    "import statsmodels.formula.api as smf\n",
    "from sklearn import datasets, linear_model, metrics\n",
    "from sklearn.cross_validation import cross_val_score, cross_val_predict\n",
    "from sklearn.preprocessing import StandardScaler, PolynomialFeatures\n",
    "from sklearn.model_selection import train_test_split, GridSearchCV, StratifiedKFold, RandomizedSearchCV\n",
    "from sklearn.linear_model import Ridge, Lasso, RidgeCV, LinearRegression\n",
    "from sklearn.naive_bayes import GaussianNB\n",
    "from sklearn.pipeline import make_pipeline\n",
    "from sklearn.metrics import mean_squared_error, mean_absolute_error, accuracy_score\n",
    "from sklearn import svm, datasets\n",
    "from sklearn.feature_extraction.text import CountVectorizer\n",
    "from sklearn.decomposition import PCA\n",
    "from sklearn.neighbors import KNeighborsClassifier\n",
    "from sklearn.tree import DecisionTreeClassifier\n",
    "from sklearn.ensemble import RandomForestClassifier, BaggingClassifier\n",
    "from sklearn.dummy import DummyClassifier\n",
    "from sklearn.metrics import classification_report\n",
    "\n",
    "import matplotlib.pyplot as plt\n",
    "%matplotlib inline\n",
    "\n",
    "\n",
    "# Other libaries\n",
    "import geopy"
   ]
  },
  {
   "cell_type": "markdown",
   "metadata": {
    "heading_collapsed": true
   },
   "source": [
    "# Import the test and train sets"
   ]
  },
  {
   "cell_type": "code",
   "execution_count": 23,
   "metadata": {
    "hidden": true
   },
   "outputs": [],
   "source": [
    "with open('X_train.pkl', 'rb') as picklefile: \n",
    "    X_train = pickle.load(picklefile)"
   ]
  },
  {
   "cell_type": "code",
   "execution_count": 24,
   "metadata": {
    "hidden": true
   },
   "outputs": [],
   "source": [
    "with open('X_test.pkl', 'rb') as picklefile: \n",
    "    X_test = pickle.load(picklefile)"
   ]
  },
  {
   "cell_type": "code",
   "execution_count": 25,
   "metadata": {
    "hidden": true
   },
   "outputs": [],
   "source": [
    "with open('y_train.pkl', 'rb') as picklefile: \n",
    "    y_train = pickle.load(picklefile)"
   ]
  },
  {
   "cell_type": "code",
   "execution_count": 26,
   "metadata": {
    "hidden": true
   },
   "outputs": [],
   "source": [
    "with open('y_test.pkl', 'rb') as picklefile: \n",
    "    y_test = pickle.load(picklefile)"
   ]
  },
  {
   "cell_type": "code",
   "execution_count": 27,
   "metadata": {
    "hidden": true
   },
   "outputs": [],
   "source": [
    "with open('X_train_noproduct.pkl', 'rb') as picklefile: \n",
    "    X_train_noproduct = pickle.load(picklefile)"
   ]
  },
  {
   "cell_type": "code",
   "execution_count": 28,
   "metadata": {
    "hidden": true
   },
   "outputs": [],
   "source": [
    "with open('X_test_noproduct.pkl', 'rb') as picklefile: \n",
    "    X_test_noproduct = pickle.load(picklefile)"
   ]
  },
  {
   "cell_type": "code",
   "execution_count": 29,
   "metadata": {
    "hidden": true
   },
   "outputs": [],
   "source": [
    "with open('y_train_noproduct.pkl', 'rb') as picklefile: \n",
    "    y_train_noproduct = pickle.load(picklefile)"
   ]
  },
  {
   "cell_type": "code",
   "execution_count": 30,
   "metadata": {
    "hidden": true
   },
   "outputs": [],
   "source": [
    "with open('y_test_noproduct.pkl', 'rb') as picklefile: \n",
    "    y_test_noproduct = pickle.load(picklefile)"
   ]
  },
  {
   "cell_type": "code",
   "execution_count": 31,
   "metadata": {
    "hidden": true
   },
   "outputs": [],
   "source": [
    "with open('dummy_score_noproduct.pkl', 'rb') as picklefile: \n",
    "    dummy_score_noproduct = pickle.load(picklefile)"
   ]
  },
  {
   "cell_type": "code",
   "execution_count": 61,
   "metadata": {
    "hidden": true
   },
   "outputs": [],
   "source": [
    "with open('X_noproduct.pkl', 'rb') as picklefile: \n",
    "    X_noproduct = pickle.load(picklefile)"
   ]
  },
  {
   "cell_type": "code",
   "execution_count": 60,
   "metadata": {
    "hidden": true
   },
   "outputs": [],
   "source": [
    "with open('y_noproduct.pkl', 'rb') as picklefile: \n",
    "    y_noproduct = pickle.load(picklefile)"
   ]
  },
  {
   "cell_type": "markdown",
   "metadata": {
    "heading_collapsed": true
   },
   "source": [
    "# Classify the test train without the product name feature"
   ]
  },
  {
   "cell_type": "code",
   "execution_count": 12,
   "metadata": {
    "hidden": true
   },
   "outputs": [],
   "source": [
    "bagger_noproduct = BaggingClassifier()"
   ]
  },
  {
   "cell_type": "code",
   "execution_count": 13,
   "metadata": {
    "hidden": true
   },
   "outputs": [
    {
     "data": {
      "text/plain": [
       "BaggingClassifier(base_estimator=None, bootstrap=True,\n",
       "         bootstrap_features=False, max_features=1.0, max_samples=1.0,\n",
       "         n_estimators=10, n_jobs=1, oob_score=False, random_state=None,\n",
       "         verbose=0, warm_start=False)"
      ]
     },
     "execution_count": 13,
     "metadata": {},
     "output_type": "execute_result"
    }
   ],
   "source": [
    "bagger_noproduct.fit(X_train_noproduct, y_train_noproduct)"
   ]
  },
  {
   "cell_type": "markdown",
   "metadata": {
    "heading_collapsed": true
   },
   "source": [
    "# Compare retrained model accuracy with dummy"
   ]
  },
  {
   "cell_type": "code",
   "execution_count": 18,
   "metadata": {
    "hidden": true
   },
   "outputs": [],
   "source": [
    "# The accuracy score is higher than the decision tree\n",
    "# Let's try using random forest, just in case I am overfitting with trees and bagging \n",
    "accuracy_bagger_noproduct = bagger_noproduct.score(X_test_noproduct, y_test_noproduct)"
   ]
  },
  {
   "cell_type": "code",
   "execution_count": 35,
   "metadata": {
    "hidden": true
   },
   "outputs": [
    {
     "data": {
      "text/plain": [
       "0.4045516970767118"
      ]
     },
     "execution_count": 35,
     "metadata": {},
     "output_type": "execute_result"
    }
   ],
   "source": [
    "accuracy_bagger_noproduct"
   ]
  },
  {
   "cell_type": "code",
   "execution_count": 19,
   "metadata": {
    "hidden": true
   },
   "outputs": [
    {
     "name": "stdout",
     "output_type": "stream",
     "text": [
      "My model is 15% more accurate than the dummy model\n"
     ]
    }
   ],
   "source": [
    "print(\"My model is {}% more accurate than the dummy model\".format(int((accuracy_bagger_noproduct - dummy_score_noproduct)*100)))"
   ]
  },
  {
   "cell_type": "markdown",
   "metadata": {
    "heading_collapsed": true
   },
   "source": [
    "# Try tuning the model without the product name feature"
   ]
  },
  {
   "cell_type": "code",
   "execution_count": 39,
   "metadata": {
    "hidden": true
   },
   "outputs": [
    {
     "name": "stdout",
     "output_type": "stream",
     "text": [
      "Best Score: 0.4262350220727349\n",
      "Best params: {'max_features': 10, 'n_estimators': 20}\n"
     ]
    }
   ],
   "source": [
    "bagger_classifier = BaggingClassifier(random_state=30)\n",
    "\n",
    "parameter_grid = {'max_features': [5, 10, 15],\n",
    "                 'n_estimators': [5, 10, 15, 20]}\n",
    "\n",
    "cross_validation = StratifiedKFold(n_splits=10)\n",
    "\n",
    "grid_search = GridSearchCV(bagger_classifier, param_grid = parameter_grid,\n",
    "                          cv = cross_validation)\n",
    "\n",
    "grid_search.fit(X_train_noproduct, y_train_noproduct)\n",
    "\n",
    "print(\"Best Score: {}\".format(grid_search.best_score_))\n",
    "print(\"Best params: {}\".format(grid_search.best_params_))"
   ]
  },
  {
   "cell_type": "markdown",
   "metadata": {
    "heading_collapsed": true
   },
   "source": [
    "# Retrain using the gridsearch chosen params "
   ]
  },
  {
   "cell_type": "code",
   "execution_count": 43,
   "metadata": {
    "hidden": true
   },
   "outputs": [],
   "source": [
    "bagger_noproduct_tuned = BaggingClassifier(max_features=10, n_estimators=20)"
   ]
  },
  {
   "cell_type": "code",
   "execution_count": 44,
   "metadata": {
    "hidden": true
   },
   "outputs": [
    {
     "data": {
      "text/plain": [
       "BaggingClassifier(base_estimator=None, bootstrap=True,\n",
       "         bootstrap_features=False, max_features=10, max_samples=1.0,\n",
       "         n_estimators=20, n_jobs=1, oob_score=False, random_state=None,\n",
       "         verbose=0, warm_start=False)"
      ]
     },
     "execution_count": 44,
     "metadata": {},
     "output_type": "execute_result"
    }
   ],
   "source": [
    "bagger_noproduct_tuned.fit(X_train_noproduct, y_train_noproduct)"
   ]
  },
  {
   "cell_type": "code",
   "execution_count": 76,
   "metadata": {
    "hidden": true
   },
   "outputs": [],
   "source": [
    "with open('fitted_accuracy_bagger_noproduct_tuned_model.pkl', 'wb') as picklefile:\n",
    "        pickle.dump(bagger_noproduct_tuned, picklefile)"
   ]
  },
  {
   "cell_type": "code",
   "execution_count": 46,
   "metadata": {
    "hidden": true
   },
   "outputs": [],
   "source": [
    "accuracy_bagger_noproduct_tuned = bagger_noproduct_tuned.score(X_test_noproduct, y_test_noproduct)"
   ]
  },
  {
   "cell_type": "code",
   "execution_count": 47,
   "metadata": {
    "hidden": true
   },
   "outputs": [
    {
     "data": {
      "text/plain": [
       "0.43133215617029624"
      ]
     },
     "execution_count": 47,
     "metadata": {},
     "output_type": "execute_result"
    }
   ],
   "source": [
    "accuracy_bagger_noproduct_tuned"
   ]
  },
  {
   "cell_type": "code",
   "execution_count": 50,
   "metadata": {
    "hidden": true
   },
   "outputs": [],
   "source": [
    "with open('accuracy_bagger_noproduct_tuned.pkl', 'wb') as picklefile:\n",
    "        pickle.dump(accuracy_bagger_noproduct_tuned, picklefile)"
   ]
  },
  {
   "cell_type": "code",
   "execution_count": 48,
   "metadata": {
    "hidden": true
   },
   "outputs": [
    {
     "name": "stdout",
     "output_type": "stream",
     "text": [
      "My model is 18% more accurate than the dummy model\n"
     ]
    }
   ],
   "source": [
    "print(\"My model is {}% more accurate than the dummy model\".format(int((accuracy_bagger_noproduct_tuned - dummy_score_noproduct)*100)))"
   ]
  },
  {
   "cell_type": "markdown",
   "metadata": {
    "heading_collapsed": true
   },
   "source": [
    "# Compare test and train scores to see whethere there's possibly overfitting"
   ]
  },
  {
   "cell_type": "code",
   "execution_count": 49,
   "metadata": {
    "hidden": true,
    "scrolled": true
   },
   "outputs": [
    {
     "data": {
      "image/png": "[encoded data removed]",
      "text/plain": [
       "<Figure size 900x600 with 1 Axes>"
      ]
     },
     "metadata": {},
     "output_type": "display_data"
    }
   ],
   "source": [
    "# The test score is higher than using the decision tree model\n",
    "# But since there's still a major gap between the train and test scores,\n",
    "## It seems like we're still overfitting.\n",
    "### I will try the random forest model \n",
    "train_score = []\n",
    "test_score = []\n",
    "\n",
    "for depth in range(20):\n",
    "    bag = BaggingClassifier(max_features=10, n_estimators=20)\n",
    "    bag.fit(X_train_noproduct, y_train_noproduct)\n",
    "    train_score.append(bag.score(X_train_noproduct, y_train_noproduct))\n",
    "    test_score.append(bag.score(X_test_noproduct, y_test_noproduct))\n",
    "    \n",
    "plt.figure(dpi=150)\n",
    "plt.plot(range(20), train_score, 'g', label=\"Train\")\n",
    "plt.plot(range(20), test_score, 'b', label=\"Test\")\n",
    "plt.legend(loc='upper right')\n",
    "plt.xlabel(\"Max Depth in Tree\")\n",
    "plt.ylabel(\"Accuracy\");"
   ]
  },
  {
   "cell_type": "markdown",
   "metadata": {
    "heading_collapsed": true
   },
   "source": [
    "# Classify with the F1 scores without the product name feature"
   ]
  },
  {
   "cell_type": "code",
   "execution_count": 52,
   "metadata": {
    "hidden": true
   },
   "outputs": [],
   "source": [
    "preds = bagger_noproduct_tuned.predict(X_test_noproduct)"
   ]
  },
  {
   "cell_type": "code",
   "execution_count": 55,
   "metadata": {
    "hidden": true
   },
   "outputs": [
    {
     "name": "stdout",
     "output_type": "stream",
     "text": [
      "             precision    recall  f1-score   support\n",
      "\n",
      "          0       0.43      0.06      0.11       160\n",
      "          1       0.44      0.10      0.16       985\n",
      "          2       0.41      0.33      0.37      2690\n",
      "          3       0.46      0.09      0.15       442\n",
      "          4       0.43      0.81      0.56      3791\n",
      "          5       0.00      0.00      0.00         4\n",
      "          6       0.54      0.09      0.15       145\n",
      "          7       0.50      0.17      0.26      1486\n",
      "          8       0.33      0.04      0.06       198\n",
      "          9       0.54      0.07      0.13       293\n",
      "\n",
      "avg / total       0.44      0.43      0.37     10194\n",
      "\n"
     ]
    },
    {
     "name": "stderr",
     "output_type": "stream",
     "text": [
      "/home/victoria/anaconda3/envs/ds/lib/python3.6/site-packages/sklearn/metrics/classification.py:1135: UndefinedMetricWarning: Precision and F-score are ill-defined and being set to 0.0 in labels with no predicted samples.\n",
      "  'precision', 'predicted', average, warn_for)\n"
     ]
    }
   ],
   "source": [
    "print(classification_report(y_test_noproduct, preds))# prints a report for each possible label"
   ]
  },
  {
   "cell_type": "code",
   "execution_count": 66,
   "metadata": {
    "hidden": true
   },
   "outputs": [
    {
     "name": "stderr",
     "output_type": "stream",
     "text": [
      "/home/victoria/anaconda3/envs/ds/lib/python3.6/site-packages/sklearn/metrics/classification.py:1135: UndefinedMetricWarning: Precision and F-score are ill-defined and being set to 0.0 in labels with no predicted samples.\n",
      "  'precision', 'predicted', average, warn_for)\n"
     ]
    }
   ],
   "source": [
    "clf_rep = metrics.precision_recall_fscore_support(y_test_noproduct, preds)"
   ]
  },
  {
   "cell_type": "code",
   "execution_count": 79,
   "metadata": {
    "hidden": true
   },
   "outputs": [
    {
     "name": "stdout",
     "output_type": "stream",
     "text": [
      "   f1-score  precision    recall  support\n",
      "0  0.109290   0.434783  0.062500      160\n",
      "1  0.158333   0.441860  0.096447      985\n",
      "2  0.366756   0.413135  0.329740     2690\n",
      "3  0.148289   0.464286  0.088235      442\n",
      "4  0.561693   0.430255  0.808758     3791\n",
      "5  0.000000   0.000000  0.000000        4\n",
      "6  0.153846   0.541667  0.089655      145\n",
      "7  0.258871   0.502913  0.174293     1486\n",
      "8  0.063927   0.333333  0.035354      198\n",
      "9  0.126506   0.538462  0.071672      293\n"
     ]
    }
   ],
   "source": [
    "classification_bagging_dict = {\n",
    "             \"precision\" :clf_rep[0]\n",
    "            ,\"recall\" : clf_rep[1]\n",
    "            ,\"f1-score\" : clf_rep[2]\n",
    "            ,\"support\" : clf_rep[3]\n",
    "            }\n",
    "classification_bagging_df = pd.DataFrame(classification_bagging_dict, index = bagger_noproduct_tuned.classes_)\n",
    "print(classification_bagging_df)"
   ]
  },
  {
   "cell_type": "code",
   "execution_count": 80,
   "metadata": {
    "hidden": true
   },
   "outputs": [],
   "source": [
    "with open('classification_bagging_df.pkl', 'wb') as picklefile:\n",
    "        pickle.dump(classification_bagging_df, picklefile)"
   ]
  },
  {
   "cell_type": "markdown",
   "metadata": {
    "heading_collapsed": true
   },
   "source": [
    "# Summary"
   ]
  },
  {
   "cell_type": "markdown",
   "metadata": {
    "hidden": true
   },
   "source": [
    "### What I did\n",
    "1. Fitted and predicted on a bagging ensemble method on  a decision tree (the default classifier bagging uses) for both of my test train sets (all features and the version without the product name codes). \n",
    "2. Conducted a grid search on the max features and number of estimators parameters to determine the paramaters that would provide the highest accuracy \n",
    "3. Compared the accuracy to the dummy model and to the decision tree model\n",
    "4. Compared test and train scores to see if I was overfitting. \n",
    "\n",
    "### What I will do next\n",
    "Try using a random forest model on top of the decision tree, since I'm still overfitting."
   ]
  }
 ],
 "metadata": {
  "kernelspec": {
   "display_name": "Python 3",
   "language": "python",
   "name": "python3"
  },
  "language_info": {
   "codemirror_mode": {
    "name": "ipython",
    "version": 3
   },
   "file_extension": ".py",
   "mimetype": "text/x-python",
   "name": "python",
   "nbconvert_exporter": "python",
   "pygments_lexer": "ipython3",
   "version": "3.6.5"
  }
 },
 "nbformat": 4,
 "nbformat_minor": 2
}
