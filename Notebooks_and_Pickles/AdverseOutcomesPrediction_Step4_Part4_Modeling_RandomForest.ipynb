{
 "cells": [
  {
   "cell_type": "markdown",
   "metadata": {},
   "source": [
    "###### Project: Adverse Medical Outcomes Prediction \n",
    "##### Data Scientist: Victoria M. Ng "
   ]
  },
  {
   "cell_type": "markdown",
   "metadata": {},
   "source": [
    "# Import libraries"
   ]
  },
  {
   "cell_type": "code",
   "execution_count": 53,
   "metadata": {},
   "outputs": [],
   "source": [
    "# General system libraries\n",
    "import os\n",
    "import sys\n",
    "from IPython.display import Image, Markdown\n",
    "import logging\n",
    "logging.basicConfig(format='%(asctime)s : %(levelname)s : %(message)s', level=logging.INFO)\n",
    "\n",
    "# Dataframe libraries\n",
    "import pandas as pd\n",
    "from pandas import DataFrame, read_csv\n",
    "\n",
    "# Number manipulation\n",
    "import scipy.sparse\n",
    "from scipy.ndimage.filters import generic_filter\n",
    "import patsy\n",
    "import numpy as np\n",
    "from scipy.stats import randint\n",
    "\n",
    "# Plotting libaries\n",
    "import matplotlib.pyplot as plt\n",
    "import seaborn as sns\n",
    "plt.style.use('ggplot')\n",
    "%matplotlib inline\n",
    "\n",
    "# Data type libaries\n",
    "from datetime import datetime as dt\n",
    "\n",
    "# File manipulation\n",
    "import pickle\n",
    "import pandas.io.sql as pd_sql\n",
    "from sqlalchemy import create_engine\n",
    "import psycopg2 as pg\n",
    "\n",
    "# NLP libraries\n",
    "import wikipedia as wiki\n",
    "from nltk import word_tokenize, sent_tokenize,FreqDist\n",
    "from nltk.corpus import stopwords\n",
    "import gensim as gn\n",
    "from gensim import corpora, models, similarities\n",
    "from collections import defaultdict\n",
    "from six import iteritems\n",
    "from sklearn.feature_extraction.stop_words import ENGLISH_STOP_WORDS\n",
    "from spacy.lang.en.stop_words import STOP_WORDS\n",
    "\n",
    "# Scraping libraries\n",
    "import requests\n",
    "from bs4 import BeautifulSoup\n",
    "from selenium import webdriver\n",
    "from selenium.webdriver.common.keys import Keys\n",
    "import time\n",
    "chromedriver = \"/home/victoria/projects/metis/Project3/chromedriver\"\n",
    "os.environ[\"webdriver.chrome.driver\"] = chromedriver\n",
    "\n",
    "# Stats libaries\n",
    "import statsmodels.api as sm\n",
    "import statsmodels.formula.api as smf\n",
    "from sklearn import datasets, linear_model, metrics\n",
    "from sklearn.cross_validation import cross_val_score, cross_val_predict\n",
    "from sklearn.preprocessing import StandardScaler, PolynomialFeatures\n",
    "from sklearn.model_selection import train_test_split, GridSearchCV, StratifiedKFold, RandomizedSearchCV\n",
    "from sklearn.linear_model import Ridge, Lasso, RidgeCV, LinearRegression\n",
    "from sklearn.naive_bayes import GaussianNB\n",
    "from sklearn.pipeline import make_pipeline\n",
    "from sklearn.metrics import mean_squared_error, mean_absolute_error, accuracy_score\n",
    "from sklearn import svm, datasets\n",
    "from sklearn.feature_extraction.text import CountVectorizer\n",
    "from sklearn.decomposition import PCA\n",
    "from sklearn.neighbors import KNeighborsClassifier\n",
    "from sklearn.tree import DecisionTreeClassifier\n",
    "from sklearn.ensemble import RandomForestClassifier, BaggingClassifier\n",
    "from sklearn.dummy import DummyClassifier\n",
    "from sklearn.metrics import classification_report\n",
    "from sklearn.dummy import DummyClassifier\n",
    "\n",
    "import matplotlib.pyplot as plt\n",
    "%matplotlib inline\n",
    "\n",
    "\n",
    "# Other libaries\n",
    "import geopy"
   ]
  },
  {
   "cell_type": "markdown",
   "metadata": {
    "heading_collapsed": true
   },
   "source": [
    "# Import the test and train sets and dummy accuracy"
   ]
  },
  {
   "cell_type": "code",
   "execution_count": 37,
   "metadata": {
    "hidden": true
   },
   "outputs": [],
   "source": [
    "with open('X_train.pkl', 'rb') as picklefile: \n",
    "    X_train = pickle.load(picklefile)"
   ]
  },
  {
   "cell_type": "code",
   "execution_count": 38,
   "metadata": {
    "hidden": true
   },
   "outputs": [],
   "source": [
    "with open('X_test.pkl', 'rb') as picklefile: \n",
    "    X_test = pickle.load(picklefile)"
   ]
  },
  {
   "cell_type": "code",
   "execution_count": 39,
   "metadata": {
    "hidden": true
   },
   "outputs": [],
   "source": [
    "with open('y_train.pkl', 'rb') as picklefile: \n",
    "    y_train = pickle.load(picklefile)"
   ]
  },
  {
   "cell_type": "code",
   "execution_count": 40,
   "metadata": {
    "hidden": true
   },
   "outputs": [],
   "source": [
    "with open('y_test.pkl', 'rb') as picklefile: \n",
    "    y_test = pickle.load(picklefile)"
   ]
  },
  {
   "cell_type": "code",
   "execution_count": 41,
   "metadata": {
    "hidden": true
   },
   "outputs": [],
   "source": [
    "with open('X_train_noproduct.pkl', 'rb') as picklefile: \n",
    "    X_train_noproduct = pickle.load(picklefile)"
   ]
  },
  {
   "cell_type": "code",
   "execution_count": 42,
   "metadata": {
    "hidden": true
   },
   "outputs": [],
   "source": [
    "with open('X_test_noproduct.pkl', 'rb') as picklefile: \n",
    "    X_test_noproduct = pickle.load(picklefile)"
   ]
  },
  {
   "cell_type": "code",
   "execution_count": 43,
   "metadata": {
    "hidden": true
   },
   "outputs": [],
   "source": [
    "with open('y_train_noproduct.pkl', 'rb') as picklefile: \n",
    "    y_train_noproduct = pickle.load(picklefile)"
   ]
  },
  {
   "cell_type": "code",
   "execution_count": 44,
   "metadata": {
    "hidden": true
   },
   "outputs": [],
   "source": [
    "with open('y_test_noproduct.pkl', 'rb') as picklefile: \n",
    "    y_test_noproduct = pickle.load(picklefile)"
   ]
  },
  {
   "cell_type": "code",
   "execution_count": 45,
   "metadata": {
    "hidden": true
   },
   "outputs": [],
   "source": [
    "with open('dummy_score_noproduct.pkl', 'rb') as picklefile: \n",
    "    dummy_score_noproduct = pickle.load(picklefile)"
   ]
  },
  {
   "cell_type": "code",
   "execution_count": 49,
   "metadata": {
    "hidden": true
   },
   "outputs": [],
   "source": [
    "with open('accuracy_bagger_noproduct_tuned.pkl', 'rb') as picklefile: \n",
    "    accuracy_bagger_noproduct_tuned = pickle.load(picklefile)"
   ]
  },
  {
   "cell_type": "code",
   "execution_count": 70,
   "metadata": {
    "hidden": true
   },
   "outputs": [],
   "source": [
    "with open('X_noproduct.pkl', 'rb') as picklefile: \n",
    "    X_noproduct = pickle.load(picklefile)"
   ]
  },
  {
   "cell_type": "code",
   "execution_count": 71,
   "metadata": {
    "hidden": true
   },
   "outputs": [],
   "source": [
    "with open('y_noproduct.pkl', 'rb') as picklefile: \n",
    "    y_noproduct = pickle.load(picklefile)"
   ]
  },
  {
   "cell_type": "code",
   "execution_count": 145,
   "metadata": {
    "hidden": true
   },
   "outputs": [],
   "source": [
    "with open('outcomes_ordered_dict.pkl', 'rb') as picklefile: \n",
    "    outcomes_ordered_dict = pickle.load(picklefile)"
   ]
  },
  {
   "cell_type": "markdown",
   "metadata": {
    "heading_collapsed": true
   },
   "source": [
    "# Classify without product name feature using random forest classifier class"
   ]
  },
  {
   "cell_type": "code",
   "execution_count": 46,
   "metadata": {
    "hidden": true
   },
   "outputs": [],
   "source": [
    "forest = RandomForestClassifier()"
   ]
  },
  {
   "cell_type": "code",
   "execution_count": 47,
   "metadata": {
    "hidden": true
   },
   "outputs": [
    {
     "data": {
      "text/plain": [
       "RandomForestClassifier(bootstrap=True, class_weight=None, criterion='gini',\n",
       "            max_depth=None, max_features='auto', max_leaf_nodes=None,\n",
       "            min_impurity_decrease=0.0, min_impurity_split=None,\n",
       "            min_samples_leaf=1, min_samples_split=2,\n",
       "            min_weight_fraction_leaf=0.0, n_estimators=10, n_jobs=1,\n",
       "            oob_score=False, random_state=None, verbose=0,\n",
       "            warm_start=False)"
      ]
     },
     "execution_count": 47,
     "metadata": {},
     "output_type": "execute_result"
    }
   ],
   "source": [
    "forest.fit(X_train_noproduct, y_train_noproduct)"
   ]
  },
  {
   "cell_type": "markdown",
   "metadata": {
    "heading_collapsed": true
   },
   "source": [
    "# Compare the random forest accuracy with my tuned bagging model"
   ]
  },
  {
   "cell_type": "code",
   "execution_count": 50,
   "metadata": {
    "hidden": true
   },
   "outputs": [],
   "source": [
    "accuracy_randomforest_noproduct = forest.score(X_test_noproduct, y_test_noproduct)"
   ]
  },
  {
   "cell_type": "code",
   "execution_count": 59,
   "metadata": {
    "hidden": true
   },
   "outputs": [
    {
     "data": {
      "text/plain": [
       "0.4106337061016284"
      ]
     },
     "execution_count": 59,
     "metadata": {},
     "output_type": "execute_result"
    }
   ],
   "source": [
    "accuracy_randomforest_noproduct"
   ]
  },
  {
   "cell_type": "code",
   "execution_count": 51,
   "metadata": {
    "hidden": true
   },
   "outputs": [
    {
     "name": "stdout",
     "output_type": "stream",
     "text": [
      "My model is -0.02069845006866783 more accurate than my bagging model\n"
     ]
    }
   ],
   "source": [
    "# Seems like I need the base random forest model is not as accurate as my tuned bagging model\n",
    "print(\"My model is {} more accurate than my bagging model\".format(accuracy_randomforest_noproduct - accuracy_bagger_noproduct_tuned))"
   ]
  },
  {
   "cell_type": "markdown",
   "metadata": {
    "heading_collapsed": true
   },
   "source": [
    "# Try tuning the model without the product name feature"
   ]
  },
  {
   "cell_type": "code",
   "execution_count": null,
   "metadata": {
    "hidden": true
   },
   "outputs": [],
   "source": [
    "forest_classifier = RandomForestClassifier(random_state=30)\n",
    "\n",
    "parameter_grid = {\"max_depth\": [5, 10, 15, 20],\n",
    "              'n_estimators': [10, 20, 200, 500],\n",
    "              \"max_features\": ['sqrt', 'log2'],\n",
    "              \"min_samples_split\": [2, 10],\n",
    "                }\n",
    "\n",
    "cross_validation = StratifiedKFold(n_splits=10)\n",
    "\n",
    "grid_search = GridSearchCV(forest_classifier, param_grid = parameter_grid,\n",
    "                          cv = cross_validation)\n",
    "\n",
    "grid_search.fit(X_train_noproduct, y_train_noproduct)\n",
    "\n",
    "print(\"Best Score: {}\".format(grid_search.best_score_))\n",
    "print(\"Best params: {}\".format(grid_search.best_params_))"
   ]
  },
  {
   "cell_type": "markdown",
   "metadata": {
    "heading_collapsed": true
   },
   "source": [
    "# Compare the tuned random forest accuracy to the dummy model and the tuned bagging model"
   ]
  },
  {
   "cell_type": "code",
   "execution_count": 102,
   "metadata": {
    "hidden": true
   },
   "outputs": [],
   "source": [
    "forest_tuned = RandomForestClassifier(max_depth= 3, max_features= 'sqrt', n_estimators= 1000)"
   ]
  },
  {
   "cell_type": "code",
   "execution_count": 103,
   "metadata": {
    "hidden": true
   },
   "outputs": [
    {
     "data": {
      "text/plain": [
       "RandomForestClassifier(bootstrap=True, class_weight=None, criterion='gini',\n",
       "            max_depth=3, max_features='sqrt', max_leaf_nodes=None,\n",
       "            min_impurity_decrease=0.0, min_impurity_split=None,\n",
       "            min_samples_leaf=1, min_samples_split=2,\n",
       "            min_weight_fraction_leaf=0.0, n_estimators=1000, n_jobs=1,\n",
       "            oob_score=False, random_state=None, verbose=0,\n",
       "            warm_start=False)"
      ]
     },
     "execution_count": 103,
     "metadata": {},
     "output_type": "execute_result"
    }
   ],
   "source": [
    "forest_tuned.fit(X_train_noproduct, y_train_noproduct)"
   ]
  },
  {
   "cell_type": "code",
   "execution_count": 104,
   "metadata": {
    "hidden": true
   },
   "outputs": [],
   "source": [
    "accuracy_randomforest_noproduct_tuned = forest_tuned.score(X_test_noproduct, y_test_noproduct)"
   ]
  },
  {
   "cell_type": "code",
   "execution_count": 105,
   "metadata": {
    "hidden": true
   },
   "outputs": [
    {
     "data": {
      "text/plain": [
       "0.3794388856189916"
      ]
     },
     "execution_count": 105,
     "metadata": {},
     "output_type": "execute_result"
    }
   ],
   "source": [
    "accuracy_randomforest_noproduct_tuned"
   ]
  },
  {
   "cell_type": "code",
   "execution_count": 106,
   "metadata": {
    "hidden": true
   },
   "outputs": [
    {
     "name": "stdout",
     "output_type": "stream",
     "text": [
      "My model is 13% more accurate than the dummy model\n"
     ]
    }
   ],
   "source": [
    "# this random forest is better than the dummy model\n",
    "print(\"My model is {}% more accurate than the dummy model\".format(int((accuracy_randomforest_noproduct_tuned - dummy_score_noproduct)*100)))"
   ]
  },
  {
   "cell_type": "code",
   "execution_count": 107,
   "metadata": {
    "hidden": true
   },
   "outputs": [
    {
     "name": "stdout",
     "output_type": "stream",
     "text": [
      "My model is -0.05189327055130466 more accurate than my bagging model\n"
     ]
    }
   ],
   "source": [
    "# The difference in accuracy between the two models is so small that it should fit within the error range, meaning that these models are performing abotu the same\n",
    "print(\"My model is {} more accurate than my bagging model\".format(accuracy_randomforest_noproduct_tuned - accuracy_bagger_noproduct_tuned))"
   ]
  },
  {
   "cell_type": "markdown",
   "metadata": {
    "heading_collapsed": true
   },
   "source": [
    "# Compare test and train scores to see whethere there's possibly overfitting"
   ]
  },
  {
   "cell_type": "code",
   "execution_count": 100,
   "metadata": {
    "hidden": true
   },
   "outputs": [],
   "source": [
    "# The train accuracy and the test accuracy are lower than the tuned bagging model\n",
    "# Therefore, I will use the trained bagging model\n",
    "# More estimators is always better \n",
    "\n",
    "train_score = []\n",
    "test_score = []\n",
    "\n",
    "for n_estimators in range(200, 1000, 100):\n",
    "    forest = RandomForestClassifier(max_depth= 3, max_features= 'sqrt', n_estimators= n_estimators)\n",
    "    forest.fit(X_train_noproduct, y_train_noproduct)\n",
    "    train_score.append(forest.score(X_train_noproduct, y_train_noproduct))\n",
    "    test_score.append(forest.score(X_test_noproduct, y_test_noproduct))\n",
    "    "
   ]
  },
  {
   "cell_type": "code",
   "execution_count": 101,
   "metadata": {
    "hidden": true
   },
   "outputs": [
    {
     "data": {
      "image/png": "[encoded data removed]",
      "text/plain": [
       "<Figure size 900x600 with 1 Axes>"
      ]
     },
     "metadata": {},
     "output_type": "display_data"
    }
   ],
   "source": [
    "plt.figure(dpi=150)\n",
    "plt.plot(range(10, 500, 100), train_score, 'g', label=\"Train\")\n",
    "plt.plot(range(200, 1000, 100), test_score, 'b', label=\"Test\")\n",
    "plt.legend(loc='upper right')\n",
    "plt.xlabel(\"Max Estimators in Tree\")\n",
    "plt.ylabel(\"Accuracy\");"
   ]
  },
  {
   "cell_type": "markdown",
   "metadata": {
    "heading_collapsed": true
   },
   "source": [
    "# Find the feature importances"
   ]
  },
  {
   "cell_type": "code",
   "execution_count": 109,
   "metadata": {
    "hidden": true
   },
   "outputs": [
    {
     "data": {
      "text/plain": [
       "array([0.42262361, 0.09335069, 0.01625482, 0.00476947, 0.07593816,\n",
       "       0.03818106, 0.02160145, 0.02551743, 0.02761084, 0.01663229,\n",
       "       0.0202988 , 0.0163413 , 0.01464804, 0.03026144, 0.03069947,\n",
       "       0.13740144, 0.00786966])"
      ]
     },
     "execution_count": 109,
     "metadata": {},
     "output_type": "execute_result"
    }
   ],
   "source": [
    "forest_tuned.feature_importances_"
   ]
  },
  {
   "cell_type": "code",
   "execution_count": 110,
   "metadata": {
    "hidden": true
   },
   "outputs": [
    {
     "data": {
      "text/plain": [
       "[42.262361142070326,\n",
       " 9.335069490899254,\n",
       " 1.625482161093781,\n",
       " 0.4769470272670084,\n",
       " 7.593816307488808,\n",
       " 3.8181063308483103,\n",
       " 2.160145435858886,\n",
       " 2.551743008163186,\n",
       " 2.761084029344232,\n",
       " 1.6632291837487663,\n",
       " 2.0298798408987055,\n",
       " 1.6341304174394506,\n",
       " 1.4648042921646685,\n",
       " 3.026144417222692,\n",
       " 3.069947342700679,\n",
       " 13.74014369740749,\n",
       " 0.7869658753837399]"
      ]
     },
     "execution_count": 110,
     "metadata": {},
     "output_type": "execute_result"
    }
   ],
   "source": [
    "feature_importance_as_percent =  [100*x for x in forest_tuned .feature_importances_]\n",
    "feature_importance_as_percent"
   ]
  },
  {
   "cell_type": "code",
   "execution_count": 111,
   "metadata": {
    "hidden": true
   },
   "outputs": [],
   "source": [
    "feature_importances_randomforest = pd.DataFrame(feature_importance_as_percent,\n",
    "                                   index = X_noproduct.columns,\n",
    "                                    columns=['Feature Importance %']).sort_values('Feature Importance %', \n",
    "                                    ascending=False)"
   ]
  },
  {
   "cell_type": "code",
   "execution_count": 112,
   "metadata": {
    "hidden": true
   },
   "outputs": [
    {
     "data": {
      "text/html": [
       "<div>\n",
       "<style scoped>\n",
       "    .dataframe tbody tr th:only-of-type {\n",
       "        vertical-align: middle;\n",
       "    }\n",
       "\n",
       "    .dataframe tbody tr th {\n",
       "        vertical-align: top;\n",
       "    }\n",
       "\n",
       "    .dataframe thead th {\n",
       "        text-align: right;\n",
       "    }\n",
       "</style>\n",
       "<table border=\"1\" class=\"dataframe\">\n",
       "  <thead>\n",
       "    <tr style=\"text-align: right;\">\n",
       "      <th></th>\n",
       "      <th>Feature Importance %</th>\n",
       "    </tr>\n",
       "  </thead>\n",
       "  <tbody>\n",
       "    <tr>\n",
       "      <th>industry_code</th>\n",
       "      <td>42.262361</td>\n",
       "    </tr>\n",
       "    <tr>\n",
       "      <th>age_in_years</th>\n",
       "      <td>13.740144</td>\n",
       "    </tr>\n",
       "    <tr>\n",
       "      <th>diarrhea</th>\n",
       "      <td>9.335069</td>\n",
       "    </tr>\n",
       "    <tr>\n",
       "      <th>upper_respiratory_tract_infection</th>\n",
       "      <td>7.593816</td>\n",
       "    </tr>\n",
       "    <tr>\n",
       "      <th>prothrombin_time</th>\n",
       "      <td>3.818106</td>\n",
       "    </tr>\n",
       "    <tr>\n",
       "      <th>nephrotoxicity</th>\n",
       "      <td>3.069947</td>\n",
       "    </tr>\n",
       "    <tr>\n",
       "      <th>epileptic_seizure</th>\n",
       "      <td>3.026144</td>\n",
       "    </tr>\n",
       "    <tr>\n",
       "      <th>drug_overdose</th>\n",
       "      <td>2.761084</td>\n",
       "    </tr>\n",
       "    <tr>\n",
       "      <th>nasal_congestion</th>\n",
       "      <td>2.551743</td>\n",
       "    </tr>\n",
       "    <tr>\n",
       "      <th>bleeding</th>\n",
       "      <td>2.160145</td>\n",
       "    </tr>\n",
       "    <tr>\n",
       "      <th>dysbiosis</th>\n",
       "      <td>2.029880</td>\n",
       "    </tr>\n",
       "    <tr>\n",
       "      <th>angina</th>\n",
       "      <td>1.663229</td>\n",
       "    </tr>\n",
       "    <tr>\n",
       "      <th>overactive_bladder</th>\n",
       "      <td>1.634130</td>\n",
       "    </tr>\n",
       "    <tr>\n",
       "      <th>mood_swing</th>\n",
       "      <td>1.625482</td>\n",
       "    </tr>\n",
       "    <tr>\n",
       "      <th>suicide_terminology</th>\n",
       "      <td>1.464804</td>\n",
       "    </tr>\n",
       "    <tr>\n",
       "      <th>victim_gender_codes</th>\n",
       "      <td>0.786966</td>\n",
       "    </tr>\n",
       "    <tr>\n",
       "      <th>renal_function</th>\n",
       "      <td>0.476947</td>\n",
       "    </tr>\n",
       "  </tbody>\n",
       "</table>\n",
       "</div>"
      ],
      "text/plain": [
       "                                   Feature Importance %\n",
       "industry_code                                 42.262361\n",
       "age_in_years                                  13.740144\n",
       "diarrhea                                       9.335069\n",
       "upper_respiratory_tract_infection              7.593816\n",
       "prothrombin_time                               3.818106\n",
       "nephrotoxicity                                 3.069947\n",
       "epileptic_seizure                              3.026144\n",
       "drug_overdose                                  2.761084\n",
       "nasal_congestion                               2.551743\n",
       "bleeding                                       2.160145\n",
       "dysbiosis                                      2.029880\n",
       "angina                                         1.663229\n",
       "overactive_bladder                             1.634130\n",
       "mood_swing                                     1.625482\n",
       "suicide_terminology                            1.464804\n",
       "victim_gender_codes                            0.786966\n",
       "renal_function                                 0.476947"
      ]
     },
     "execution_count": 112,
     "metadata": {},
     "output_type": "execute_result"
    }
   ],
   "source": [
    "# It seems like age plays the greatest role in the outcome\n",
    "# Followed by dysbiosis symptom category as a trailing second\n",
    "# Maybe since I'm still overfitting, I should remove some of the features\n",
    "\n",
    "# Age in years was the only continuous variable, so it was being used to split over and over \n",
    "feature_importances_randomforest"
   ]
  },
  {
   "cell_type": "markdown",
   "metadata": {
    "heading_collapsed": true
   },
   "source": [
    "# Classify with the F1 scores without the product name feature"
   ]
  },
  {
   "cell_type": "code",
   "execution_count": 157,
   "metadata": {
    "hidden": true
   },
   "outputs": [],
   "source": [
    "preds_forest = forest_tuned.predict(X_test_noproduct)"
   ]
  },
  {
   "cell_type": "code",
   "execution_count": 158,
   "metadata": {
    "hidden": true
   },
   "outputs": [
    {
     "name": "stdout",
     "output_type": "stream",
     "text": [
      "             precision    recall  f1-score   support\n",
      "\n",
      "          0       0.00      0.00      0.00       160\n",
      "          1       0.00      0.00      0.00       985\n",
      "          2       0.37      0.11      0.17      2690\n",
      "          3       0.00      0.00      0.00       442\n",
      "          4       0.38      0.94      0.54      3791\n",
      "          5       0.00      0.00      0.00         4\n",
      "          6       0.00      0.00      0.00       145\n",
      "          7       0.00      0.00      0.00      1486\n",
      "          8       0.00      0.00      0.00       198\n",
      "          9       0.00      0.00      0.00       293\n",
      "\n",
      "avg / total       0.24      0.38      0.25     10194\n",
      "\n"
     ]
    },
    {
     "name": "stderr",
     "output_type": "stream",
     "text": [
      "/home/victoria/anaconda3/envs/ds/lib/python3.6/site-packages/sklearn/metrics/classification.py:1135: UndefinedMetricWarning: Precision and F-score are ill-defined and being set to 0.0 in labels with no predicted samples.\n",
      "  'precision', 'predicted', average, warn_for)\n"
     ]
    }
   ],
   "source": [
    "# Looks like I'm not \n",
    "print(classification_report(y_test_noproduct, preds_forest))# prints a report for each possible label"
   ]
  },
  {
   "cell_type": "code",
   "execution_count": 159,
   "metadata": {
    "hidden": true
   },
   "outputs": [
    {
     "name": "stderr",
     "output_type": "stream",
     "text": [
      "/home/victoria/anaconda3/envs/ds/lib/python3.6/site-packages/sklearn/metrics/classification.py:1135: UndefinedMetricWarning: Precision and F-score are ill-defined and being set to 0.0 in labels with no predicted samples.\n",
      "  'precision', 'predicted', average, warn_for)\n"
     ]
    }
   ],
   "source": [
    "clf = metrics.precision_recall_fscore_support(y_test_noproduct, preds_forest)"
   ]
  },
  {
   "cell_type": "code",
   "execution_count": 160,
   "metadata": {
    "hidden": true
   },
   "outputs": [
    {
     "name": "stdout",
     "output_type": "stream",
     "text": [
      "   f1-score  precision    recall  support\n",
      "0  0.000000   0.000000  0.000000      160\n",
      "1  0.000000   0.000000  0.000000      985\n",
      "2  0.168868   0.371212  0.109294     2690\n",
      "3  0.000000   0.000000  0.000000      442\n",
      "4  0.541802   0.380132  0.942759     3791\n",
      "5  0.000000   0.000000  0.000000        4\n",
      "6  0.000000   0.000000  0.000000      145\n",
      "7  0.000000   0.000000  0.000000     1486\n",
      "8  0.000000   0.000000  0.000000      198\n",
      "9  0.000000   0.000000  0.000000      293\n"
     ]
    }
   ],
   "source": [
    "classification_random_dict = {\n",
    "             \"precision\" :clf[0]\n",
    "            ,\"recall\" : clf[1]\n",
    "            ,\"f1-score\" : clf[2]\n",
    "            ,\"support\" : clf[3]\n",
    "            }\n",
    "classification_random_df = pd.DataFrame(classification_random_dict, index = forest_tuned_lowbias.classes_)\n",
    "print(classification_random_df)"
   ]
  },
  {
   "cell_type": "code",
   "execution_count": 161,
   "metadata": {
    "hidden": true
   },
   "outputs": [
    {
     "data": {
      "text/html": [
       "<div>\n",
       "<style scoped>\n",
       "    .dataframe tbody tr th:only-of-type {\n",
       "        vertical-align: middle;\n",
       "    }\n",
       "\n",
       "    .dataframe tbody tr th {\n",
       "        vertical-align: top;\n",
       "    }\n",
       "\n",
       "    .dataframe thead th {\n",
       "        text-align: right;\n",
       "    }\n",
       "</style>\n",
       "<table border=\"1\" class=\"dataframe\">\n",
       "  <thead>\n",
       "    <tr style=\"text-align: right;\">\n",
       "      <th></th>\n",
       "      <th>f1-score</th>\n",
       "      <th>precision</th>\n",
       "      <th>recall</th>\n",
       "      <th>support</th>\n",
       "      <th>Outcomes</th>\n",
       "    </tr>\n",
       "  </thead>\n",
       "  <tbody>\n",
       "    <tr>\n",
       "      <th>0</th>\n",
       "      <td>0.000000</td>\n",
       "      <td>0.000000</td>\n",
       "      <td>0.000000</td>\n",
       "      <td>160</td>\n",
       "      <td>death</td>\n",
       "    </tr>\n",
       "    <tr>\n",
       "      <th>1</th>\n",
       "      <td>0.000000</td>\n",
       "      <td>0.000000</td>\n",
       "      <td>0.000000</td>\n",
       "      <td>985</td>\n",
       "      <td>life_threatening</td>\n",
       "    </tr>\n",
       "    <tr>\n",
       "      <th>2</th>\n",
       "      <td>0.168868</td>\n",
       "      <td>0.371212</td>\n",
       "      <td>0.109294</td>\n",
       "      <td>2690</td>\n",
       "      <td>serious_injuries_illness</td>\n",
       "    </tr>\n",
       "    <tr>\n",
       "      <th>3</th>\n",
       "      <td>0.000000</td>\n",
       "      <td>0.000000</td>\n",
       "      <td>0.000000</td>\n",
       "      <td>442</td>\n",
       "      <td>disability</td>\n",
       "    </tr>\n",
       "    <tr>\n",
       "      <th>4</th>\n",
       "      <td>0.541802</td>\n",
       "      <td>0.380132</td>\n",
       "      <td>0.942759</td>\n",
       "      <td>3791</td>\n",
       "      <td>other_serious__important_medical_events_</td>\n",
       "    </tr>\n",
       "    <tr>\n",
       "      <th>5</th>\n",
       "      <td>0.000000</td>\n",
       "      <td>0.000000</td>\n",
       "      <td>0.000000</td>\n",
       "      <td>4</td>\n",
       "      <td>congenital_anomaly</td>\n",
       "    </tr>\n",
       "    <tr>\n",
       "      <th>6</th>\n",
       "      <td>0.000000</td>\n",
       "      <td>0.000000</td>\n",
       "      <td>0.000000</td>\n",
       "      <td>145</td>\n",
       "      <td>req_intervention_to_prvnt_perm_imprmnt</td>\n",
       "    </tr>\n",
       "    <tr>\n",
       "      <th>7</th>\n",
       "      <td>0.000000</td>\n",
       "      <td>0.000000</td>\n",
       "      <td>0.000000</td>\n",
       "      <td>1486</td>\n",
       "      <td>hospitalization</td>\n",
       "    </tr>\n",
       "    <tr>\n",
       "      <th>8</th>\n",
       "      <td>0.000000</td>\n",
       "      <td>0.000000</td>\n",
       "      <td>0.000000</td>\n",
       "      <td>198</td>\n",
       "      <td>visited_an_er</td>\n",
       "    </tr>\n",
       "    <tr>\n",
       "      <th>9</th>\n",
       "      <td>0.000000</td>\n",
       "      <td>0.000000</td>\n",
       "      <td>0.000000</td>\n",
       "      <td>293</td>\n",
       "      <td>visited_a_health_care_provider</td>\n",
       "    </tr>\n",
       "  </tbody>\n",
       "</table>\n",
       "</div>"
      ],
      "text/plain": [
       "   f1-score  precision    recall  support  \\\n",
       "0  0.000000   0.000000  0.000000      160   \n",
       "1  0.000000   0.000000  0.000000      985   \n",
       "2  0.168868   0.371212  0.109294     2690   \n",
       "3  0.000000   0.000000  0.000000      442   \n",
       "4  0.541802   0.380132  0.942759     3791   \n",
       "5  0.000000   0.000000  0.000000        4   \n",
       "6  0.000000   0.000000  0.000000      145   \n",
       "7  0.000000   0.000000  0.000000     1486   \n",
       "8  0.000000   0.000000  0.000000      198   \n",
       "9  0.000000   0.000000  0.000000      293   \n",
       "\n",
       "                                   Outcomes  \n",
       "0                                     death  \n",
       "1                          life_threatening  \n",
       "2                  serious_injuries_illness  \n",
       "3                                disability  \n",
       "4  other_serious__important_medical_events_  \n",
       "5                        congenital_anomaly  \n",
       "6    req_intervention_to_prvnt_perm_imprmnt  \n",
       "7                           hospitalization  \n",
       "8                             visited_an_er  \n",
       "9            visited_a_health_care_provider  "
      ]
     },
     "execution_count": 161,
     "metadata": {},
     "output_type": "execute_result"
    }
   ],
   "source": [
    "classification_random_df['Outcomes'] = list(outcomes_ordered_dict)\n",
    "classification_random_df"
   ]
  },
  {
   "cell_type": "markdown",
   "metadata": {
    "hidden": true
   },
   "source": [
    "Since I am only learning about two of my classes at this point, I am in a high bias situation. Since I want this to be a general end-user helper, I want to learn about more classes and give more suggestions than just two outcomes (classes). "
   ]
  },
  {
   "cell_type": "code",
   "execution_count": 162,
   "metadata": {
    "hidden": true
   },
   "outputs": [],
   "source": [
    "with open('classification_random_df.pkl', 'wb') as picklefile:\n",
    "        pickle.dump(classification_random_df, picklefile)"
   ]
  },
  {
   "cell_type": "markdown",
   "metadata": {
    "heading_collapsed": true
   },
   "source": [
    "# Retune to reduce bias"
   ]
  },
  {
   "cell_type": "code",
   "execution_count": 116,
   "metadata": {
    "hidden": true
   },
   "outputs": [],
   "source": [
    "# The train accuracy and the test accuracy are lower than the tuned bagging model\n",
    "# Therefore, I will use the trained bagging model\n",
    "# More estimators is always better \n",
    "\n",
    "train_score = []\n",
    "test_score = []\n",
    "\n",
    "for n_estimators in range(10, 300, 20):\n",
    "    forest = RandomForestClassifier(max_depth= 3, max_features= 'sqrt', n_estimators= n_estimators)\n",
    "    forest.fit(X_train_noproduct, y_train_noproduct)\n",
    "    train_score.append(forest.score(X_train_noproduct, y_train_noproduct))\n",
    "    test_score.append(forest.score(X_test_noproduct, y_test_noproduct))"
   ]
  },
  {
   "cell_type": "code",
   "execution_count": 117,
   "metadata": {
    "hidden": true
   },
   "outputs": [
    {
     "data": {
      "image/png": "[encoded data removed]",
      "text/plain": [
       "<Figure size 900x600 with 1 Axes>"
      ]
     },
     "metadata": {},
     "output_type": "display_data"
    }
   ],
   "source": [
    "plt.figure(dpi=150)\n",
    "plt.plot(range(10, 300, 20), train_score, 'g', label=\"Train\")\n",
    "plt.plot(range(10, 300, 20), test_score, 'b', label=\"Test\")\n",
    "plt.legend(loc='upper right')\n",
    "plt.xlabel(\"Max Estimators in Tree\")\n",
    "plt.ylabel(\"Accuracy\");"
   ]
  },
  {
   "cell_type": "code",
   "execution_count": 121,
   "metadata": {
    "hidden": true
   },
   "outputs": [],
   "source": [
    "train_score = []\n",
    "test_score = []\n",
    "\n",
    "for depth in range(1,20):\n",
    "    forest = RandomForestClassifier(max_depth= depth, max_features= 'sqrt', n_estimators= 250)\n",
    "    forest.fit(X_train_noproduct, y_train_noproduct)\n",
    "    train_score.append(forest.score(X_train_noproduct, y_train_noproduct))\n",
    "    test_score.append(forest.score(X_test_noproduct, y_test_noproduct))"
   ]
  },
  {
   "cell_type": "code",
   "execution_count": 122,
   "metadata": {
    "hidden": true
   },
   "outputs": [
    {
     "data": {
      "image/png": "[encoded data removed]",
      "text/plain": [
       "<Figure size 900x600 with 1 Axes>"
      ]
     },
     "metadata": {},
     "output_type": "display_data"
    }
   ],
   "source": [
    "plt.figure(dpi=150)\n",
    "plt.plot(range(1,20), train_score, 'g', label=\"Train\")\n",
    "plt.plot(range(1,20), test_score, 'b', label=\"Test\")\n",
    "plt.legend(loc='upper right')\n",
    "plt.xlabel(\"Max Depth in Tree\")\n",
    "plt.ylabel(\"Accuracy\");"
   ]
  },
  {
   "cell_type": "code",
   "execution_count": 123,
   "metadata": {
    "hidden": true
   },
   "outputs": [],
   "source": [
    "forest_tuned_lowbias = RandomForestClassifier(max_depth= 17, max_features= 'sqrt', n_estimators= 250)"
   ]
  },
  {
   "cell_type": "code",
   "execution_count": 138,
   "metadata": {
    "hidden": true
   },
   "outputs": [],
   "source": [
    "forest_tuned_lowbias_fitted = forest_tuned_lowbias.fit(X_train_noproduct, y_train_noproduct)"
   ]
  },
  {
   "cell_type": "code",
   "execution_count": 139,
   "metadata": {
    "hidden": true
   },
   "outputs": [],
   "source": [
    "with open('forest_tuned_lowbias_fitted.pkl', 'wb') as picklefile:\n",
    "        pickle.dump(forest_tuned_lowbias_fitted, picklefile)"
   ]
  },
  {
   "cell_type": "code",
   "execution_count": 125,
   "metadata": {
    "hidden": true
   },
   "outputs": [],
   "source": [
    "accuracy_randomforest_lowbias_noproduct = forest_tuned_lowbias.score(X_test_noproduct, y_test_noproduct)"
   ]
  },
  {
   "cell_type": "code",
   "execution_count": 154,
   "metadata": {
    "hidden": true
   },
   "outputs": [
    {
     "data": {
      "text/plain": [
       "0.41965862271924664"
      ]
     },
     "execution_count": 154,
     "metadata": {},
     "output_type": "execute_result"
    }
   ],
   "source": [
    "accuracy_randomforest_lowbias_noproduct"
   ]
  },
  {
   "cell_type": "code",
   "execution_count": 126,
   "metadata": {
    "hidden": true
   },
   "outputs": [
    {
     "name": "stdout",
     "output_type": "stream",
     "text": [
      "My model is 17% more accurate than the dummy model\n"
     ]
    }
   ],
   "source": [
    "# this random forest is better than the dummy model\n",
    "print(\"My model is {}% more accurate than the dummy model\".format(int((accuracy_randomforest_lowbias_noproduct - dummy_score_noproduct)*100)))"
   ]
  },
  {
   "cell_type": "code",
   "execution_count": 127,
   "metadata": {
    "hidden": true
   },
   "outputs": [
    {
     "name": "stdout",
     "output_type": "stream",
     "text": [
      "My model is -0.0116735334510496 more accurate than my bagging model\n"
     ]
    }
   ],
   "source": [
    "# Seems like I need the base random forest model is not as accurate as my tuned bagging model\n",
    "print(\"My model is {} more accurate than my bagging model\".format(accuracy_randomforest_lowbias_noproduct - accuracy_bagger_noproduct_tuned))"
   ]
  },
  {
   "cell_type": "markdown",
   "metadata": {
    "heading_collapsed": true
   },
   "source": [
    "# Find the feature importances of the lower bias tuned model"
   ]
  },
  {
   "cell_type": "code",
   "execution_count": 128,
   "metadata": {
    "hidden": true
   },
   "outputs": [
    {
     "data": {
      "text/plain": [
       "array([0.10772394, 0.03630805, 0.03809851, 0.01646422, 0.08073992,\n",
       "       0.05472532, 0.0333956 , 0.06906595, 0.01295924, 0.04106312,\n",
       "       0.09705012, 0.03705387, 0.02624667, 0.05573969, 0.03389783,\n",
       "       0.21962237, 0.03984556])"
      ]
     },
     "execution_count": 128,
     "metadata": {},
     "output_type": "execute_result"
    }
   ],
   "source": [
    "forest_tuned_lowbias.feature_importances_"
   ]
  },
  {
   "cell_type": "code",
   "execution_count": 129,
   "metadata": {
    "hidden": true
   },
   "outputs": [
    {
     "data": {
      "text/plain": [
       "[10.772394242546271,\n",
       " 3.630804746553052,\n",
       " 3.8098514335028955,\n",
       " 1.6464215676258342,\n",
       " 8.07399216850344,\n",
       " 5.47253182058813,\n",
       " 3.3395604206408547,\n",
       " 6.906595413265605,\n",
       " 1.2959240478912537,\n",
       " 4.106312070734605,\n",
       " 9.705011931581188,\n",
       " 3.705387293585099,\n",
       " 2.624667119225993,\n",
       " 5.573969348738917,\n",
       " 3.3897834091290346,\n",
       " 21.962236921541802,\n",
       " 3.9845560443460193]"
      ]
     },
     "execution_count": 129,
     "metadata": {},
     "output_type": "execute_result"
    }
   ],
   "source": [
    "feature_importance_as_percent_lowbias =  [100*x for x in forest_tuned_lowbias.feature_importances_]\n",
    "feature_importance_as_percent_lowbias"
   ]
  },
  {
   "cell_type": "code",
   "execution_count": 130,
   "metadata": {
    "hidden": true
   },
   "outputs": [],
   "source": [
    "feature_importances_randomforest_lowbias = pd.DataFrame(feature_importance_as_percent_lowbias,\n",
    "                                   index = X_noproduct.columns,\n",
    "                                    columns=['Feature Importance %']).sort_values('Feature Importance %', \n",
    "                                    ascending=False)"
   ]
  },
  {
   "cell_type": "code",
   "execution_count": 164,
   "metadata": {
    "hidden": true
   },
   "outputs": [
    {
     "data": {
      "text/html": [
       "<div>\n",
       "<style scoped>\n",
       "    .dataframe tbody tr th:only-of-type {\n",
       "        vertical-align: middle;\n",
       "    }\n",
       "\n",
       "    .dataframe tbody tr th {\n",
       "        vertical-align: top;\n",
       "    }\n",
       "\n",
       "    .dataframe thead th {\n",
       "        text-align: right;\n",
       "    }\n",
       "</style>\n",
       "<table border=\"1\" class=\"dataframe\">\n",
       "  <thead>\n",
       "    <tr style=\"text-align: right;\">\n",
       "      <th></th>\n",
       "      <th>Feature Importance %</th>\n",
       "    </tr>\n",
       "  </thead>\n",
       "  <tbody>\n",
       "    <tr>\n",
       "      <th>age_in_years</th>\n",
       "      <td>21.962237</td>\n",
       "    </tr>\n",
       "    <tr>\n",
       "      <th>industry_code</th>\n",
       "      <td>10.772394</td>\n",
       "    </tr>\n",
       "    <tr>\n",
       "      <th>dysbiosis</th>\n",
       "      <td>9.705012</td>\n",
       "    </tr>\n",
       "    <tr>\n",
       "      <th>upper_respiratory_tract_infection</th>\n",
       "      <td>8.073992</td>\n",
       "    </tr>\n",
       "    <tr>\n",
       "      <th>nasal_congestion</th>\n",
       "      <td>6.906595</td>\n",
       "    </tr>\n",
       "    <tr>\n",
       "      <th>epileptic_seizure</th>\n",
       "      <td>5.573969</td>\n",
       "    </tr>\n",
       "    <tr>\n",
       "      <th>prothrombin_time</th>\n",
       "      <td>5.472532</td>\n",
       "    </tr>\n",
       "    <tr>\n",
       "      <th>angina</th>\n",
       "      <td>4.106312</td>\n",
       "    </tr>\n",
       "    <tr>\n",
       "      <th>victim_gender_codes</th>\n",
       "      <td>3.984556</td>\n",
       "    </tr>\n",
       "    <tr>\n",
       "      <th>mood_swing</th>\n",
       "      <td>3.809851</td>\n",
       "    </tr>\n",
       "    <tr>\n",
       "      <th>overactive_bladder</th>\n",
       "      <td>3.705387</td>\n",
       "    </tr>\n",
       "    <tr>\n",
       "      <th>diarrhea</th>\n",
       "      <td>3.630805</td>\n",
       "    </tr>\n",
       "    <tr>\n",
       "      <th>nephrotoxicity</th>\n",
       "      <td>3.389783</td>\n",
       "    </tr>\n",
       "    <tr>\n",
       "      <th>bleeding</th>\n",
       "      <td>3.339560</td>\n",
       "    </tr>\n",
       "    <tr>\n",
       "      <th>suicide_terminology</th>\n",
       "      <td>2.624667</td>\n",
       "    </tr>\n",
       "    <tr>\n",
       "      <th>renal_function</th>\n",
       "      <td>1.646422</td>\n",
       "    </tr>\n",
       "    <tr>\n",
       "      <th>drug_overdose</th>\n",
       "      <td>1.295924</td>\n",
       "    </tr>\n",
       "  </tbody>\n",
       "</table>\n",
       "</div>"
      ],
      "text/plain": [
       "                                   Feature Importance %\n",
       "age_in_years                                  21.962237\n",
       "industry_code                                 10.772394\n",
       "dysbiosis                                      9.705012\n",
       "upper_respiratory_tract_infection              8.073992\n",
       "nasal_congestion                               6.906595\n",
       "epileptic_seizure                              5.573969\n",
       "prothrombin_time                               5.472532\n",
       "angina                                         4.106312\n",
       "victim_gender_codes                            3.984556\n",
       "mood_swing                                     3.809851\n",
       "overactive_bladder                             3.705387\n",
       "diarrhea                                       3.630805\n",
       "nephrotoxicity                                 3.389783\n",
       "bleeding                                       3.339560\n",
       "suicide_terminology                            2.624667\n",
       "renal_function                                 1.646422\n",
       "drug_overdose                                  1.295924"
      ]
     },
     "execution_count": 164,
     "metadata": {},
     "output_type": "execute_result"
    }
   ],
   "source": [
    "feature_importances_randomforest_lowbias"
   ]
  },
  {
   "cell_type": "code",
   "execution_count": 153,
   "metadata": {
    "hidden": true
   },
   "outputs": [],
   "source": [
    "with open('feature_importances_randomforest_lowbias.pkl', 'wb') as picklefile:\n",
    "        pickle.dump(feature_importances_randomforest_lowbias, picklefile)"
   ]
  },
  {
   "cell_type": "markdown",
   "metadata": {
    "heading_collapsed": true
   },
   "source": [
    "# Classify with the F1 scores without the product name feature low bias"
   ]
  },
  {
   "cell_type": "code",
   "execution_count": 132,
   "metadata": {
    "hidden": true
   },
   "outputs": [],
   "source": [
    "preds = forest_tuned_lowbias.predict(X_test_noproduct)"
   ]
  },
  {
   "cell_type": "code",
   "execution_count": 133,
   "metadata": {
    "hidden": true
   },
   "outputs": [
    {
     "name": "stdout",
     "output_type": "stream",
     "text": [
      "             precision    recall  f1-score   support\n",
      "\n",
      "          0       0.71      0.06      0.11       160\n",
      "          1       0.58      0.07      0.12       985\n",
      "          2       0.40      0.31      0.35      2690\n",
      "          3       0.47      0.04      0.07       442\n",
      "          4       0.42      0.84      0.56      3791\n",
      "          5       0.00      0.00      0.00         4\n",
      "          6       0.30      0.02      0.04       145\n",
      "          7       0.61      0.10      0.18      1486\n",
      "          8       0.21      0.02      0.03       198\n",
      "          9       0.60      0.06      0.11       293\n",
      "\n",
      "avg / total       0.46      0.42      0.34     10194\n",
      "\n"
     ]
    },
    {
     "name": "stderr",
     "output_type": "stream",
     "text": [
      "/home/victoria/anaconda3/envs/ds/lib/python3.6/site-packages/sklearn/metrics/classification.py:1135: UndefinedMetricWarning: Precision and F-score are ill-defined and being set to 0.0 in labels with no predicted samples.\n",
      "  'precision', 'predicted', average, warn_for)\n"
     ]
    }
   ],
   "source": [
    "print(classification_report(y_test_noproduct, preds))# prints a report for each possible label"
   ]
  },
  {
   "cell_type": "code",
   "execution_count": null,
   "metadata": {
    "hidden": true
   },
   "outputs": [],
   "source": [
    "classification_report_randomforest_lowbias_pretty = pd.DataFrame(feature_importance_as_percent_lowbias,\n",
    "                                   index = X_noproduct.columns,\n",
    "                                    columns=['Feature Importance %']).sort_values('Feature Importance %', \n",
    "                                    ascending=False)"
   ]
  },
  {
   "cell_type": "markdown",
   "metadata": {
    "heading_collapsed": true
   },
   "source": [
    "# Explore the classification report for lowbias model"
   ]
  },
  {
   "cell_type": "code",
   "execution_count": 135,
   "metadata": {
    "hidden": true
   },
   "outputs": [
    {
     "name": "stderr",
     "output_type": "stream",
     "text": [
      "/home/victoria/anaconda3/envs/ds/lib/python3.6/site-packages/sklearn/metrics/classification.py:1135: UndefinedMetricWarning: Precision and F-score are ill-defined and being set to 0.0 in labels with no predicted samples.\n",
      "  'precision', 'predicted', average, warn_for)\n"
     ]
    }
   ],
   "source": [
    "clf_rep = metrics.precision_recall_fscore_support(y_test_noproduct, preds)"
   ]
  },
  {
   "cell_type": "code",
   "execution_count": 136,
   "metadata": {
    "hidden": true
   },
   "outputs": [
    {
     "name": "stdout",
     "output_type": "stream",
     "text": [
      "   f1-score  precision    recall  support\n",
      "0  0.114943   0.714286  0.062500      160\n",
      "1  0.121708   0.577586  0.068020      985\n",
      "2  0.349140   0.400771  0.309294     2690\n",
      "3  0.067227   0.470588  0.036199      442\n",
      "4  0.555274   0.415186  0.838037     3791\n",
      "5  0.000000   0.000000  0.000000        4\n",
      "6  0.038710   0.300000  0.020690      145\n",
      "7  0.175317   0.612903  0.102288     1486\n",
      "8  0.028302   0.214286  0.015152      198\n",
      "9  0.111455   0.600000  0.061433      293\n"
     ]
    }
   ],
   "source": [
    "classification_random_lowbias_dict = {\n",
    "             \"precision\" :clf_rep[0]\n",
    "            ,\"recall\" : clf_rep[1]\n",
    "            ,\"f1-score\" : clf_rep[2]\n",
    "            ,\"support\" : clf_rep[3]\n",
    "            }\n",
    "classification_random_lowbias_df = pd.DataFrame(classification_random_lowbias_dict, index = forest_tuned_lowbias.classes_)\n",
    "print(classification_random_lowbias_df)"
   ]
  },
  {
   "cell_type": "code",
   "execution_count": 151,
   "metadata": {
    "hidden": true
   },
   "outputs": [
    {
     "data": {
      "text/html": [
       "<div>\n",
       "<style scoped>\n",
       "    .dataframe tbody tr th:only-of-type {\n",
       "        vertical-align: middle;\n",
       "    }\n",
       "\n",
       "    .dataframe tbody tr th {\n",
       "        vertical-align: top;\n",
       "    }\n",
       "\n",
       "    .dataframe thead th {\n",
       "        text-align: right;\n",
       "    }\n",
       "</style>\n",
       "<table border=\"1\" class=\"dataframe\">\n",
       "  <thead>\n",
       "    <tr style=\"text-align: right;\">\n",
       "      <th></th>\n",
       "      <th>f1-score</th>\n",
       "      <th>precision</th>\n",
       "      <th>recall</th>\n",
       "      <th>support</th>\n",
       "      <th>Outcome</th>\n",
       "    </tr>\n",
       "  </thead>\n",
       "  <tbody>\n",
       "    <tr>\n",
       "      <th>0</th>\n",
       "      <td>0.114943</td>\n",
       "      <td>0.714286</td>\n",
       "      <td>0.062500</td>\n",
       "      <td>160</td>\n",
       "      <td>death</td>\n",
       "    </tr>\n",
       "    <tr>\n",
       "      <th>1</th>\n",
       "      <td>0.121708</td>\n",
       "      <td>0.577586</td>\n",
       "      <td>0.068020</td>\n",
       "      <td>985</td>\n",
       "      <td>life_threatening</td>\n",
       "    </tr>\n",
       "    <tr>\n",
       "      <th>2</th>\n",
       "      <td>0.349140</td>\n",
       "      <td>0.400771</td>\n",
       "      <td>0.309294</td>\n",
       "      <td>2690</td>\n",
       "      <td>serious_injuries_illness</td>\n",
       "    </tr>\n",
       "    <tr>\n",
       "      <th>3</th>\n",
       "      <td>0.067227</td>\n",
       "      <td>0.470588</td>\n",
       "      <td>0.036199</td>\n",
       "      <td>442</td>\n",
       "      <td>disability</td>\n",
       "    </tr>\n",
       "    <tr>\n",
       "      <th>4</th>\n",
       "      <td>0.555274</td>\n",
       "      <td>0.415186</td>\n",
       "      <td>0.838037</td>\n",
       "      <td>3791</td>\n",
       "      <td>other_serious__important_medical_events_</td>\n",
       "    </tr>\n",
       "    <tr>\n",
       "      <th>5</th>\n",
       "      <td>0.000000</td>\n",
       "      <td>0.000000</td>\n",
       "      <td>0.000000</td>\n",
       "      <td>4</td>\n",
       "      <td>congenital_anomaly</td>\n",
       "    </tr>\n",
       "    <tr>\n",
       "      <th>6</th>\n",
       "      <td>0.038710</td>\n",
       "      <td>0.300000</td>\n",
       "      <td>0.020690</td>\n",
       "      <td>145</td>\n",
       "      <td>req_intervention_to_prvnt_perm_imprmnt</td>\n",
       "    </tr>\n",
       "    <tr>\n",
       "      <th>7</th>\n",
       "      <td>0.175317</td>\n",
       "      <td>0.612903</td>\n",
       "      <td>0.102288</td>\n",
       "      <td>1486</td>\n",
       "      <td>hospitalization</td>\n",
       "    </tr>\n",
       "    <tr>\n",
       "      <th>8</th>\n",
       "      <td>0.028302</td>\n",
       "      <td>0.214286</td>\n",
       "      <td>0.015152</td>\n",
       "      <td>198</td>\n",
       "      <td>visited_an_er</td>\n",
       "    </tr>\n",
       "    <tr>\n",
       "      <th>9</th>\n",
       "      <td>0.111455</td>\n",
       "      <td>0.600000</td>\n",
       "      <td>0.061433</td>\n",
       "      <td>293</td>\n",
       "      <td>visited_a_health_care_provider</td>\n",
       "    </tr>\n",
       "  </tbody>\n",
       "</table>\n",
       "</div>"
      ],
      "text/plain": [
       "   f1-score  precision    recall  support  \\\n",
       "0  0.114943   0.714286  0.062500      160   \n",
       "1  0.121708   0.577586  0.068020      985   \n",
       "2  0.349140   0.400771  0.309294     2690   \n",
       "3  0.067227   0.470588  0.036199      442   \n",
       "4  0.555274   0.415186  0.838037     3791   \n",
       "5  0.000000   0.000000  0.000000        4   \n",
       "6  0.038710   0.300000  0.020690      145   \n",
       "7  0.175317   0.612903  0.102288     1486   \n",
       "8  0.028302   0.214286  0.015152      198   \n",
       "9  0.111455   0.600000  0.061433      293   \n",
       "\n",
       "                                    Outcome  \n",
       "0                                     death  \n",
       "1                          life_threatening  \n",
       "2                  serious_injuries_illness  \n",
       "3                                disability  \n",
       "4  other_serious__important_medical_events_  \n",
       "5                        congenital_anomaly  \n",
       "6    req_intervention_to_prvnt_perm_imprmnt  \n",
       "7                           hospitalization  \n",
       "8                             visited_an_er  \n",
       "9            visited_a_health_care_provider  "
      ]
     },
     "execution_count": 151,
     "metadata": {},
     "output_type": "execute_result"
    }
   ],
   "source": [
    "classification_random_lowbias_df['Outcome'] = list(outcomes_ordered_dict)\n",
    "classification_random_lowbias_df"
   ]
  },
  {
   "cell_type": "code",
   "execution_count": 152,
   "metadata": {
    "hidden": true
   },
   "outputs": [],
   "source": [
    "with open('classification_random_lowbias_df.pkl', 'wb') as picklefile:\n",
    "        pickle.dump(classification_random_lowbias_df, picklefile)"
   ]
  },
  {
   "cell_type": "markdown",
   "metadata": {
    "heading_collapsed": true
   },
   "source": [
    "# Summary and Takeaways"
   ]
  },
  {
   "cell_type": "markdown",
   "metadata": {
    "hidden": true
   },
   "source": [
    "### What I did \n",
    "1. Fitted and predicted on a random forest ensemble method. \n",
    "2. Conducted a grid search to determine the paramaters that would provide the highest accuracy.\n",
    "3. Compared recall between outcomes (targets)\n",
    "4. Re-tuned the model to adjust for the high bias in order to predict more types of outcomes rather than just get higher overall accuracy or reduce overfitting. \n",
    "5. Compared the accuracy to the dummy model and to the bagging model\n",
    "\n",
    "### What I will do next \n",
    "1. Make visualizations for the presentation \n",
    "\n",
    "### Takeaways\n",
    "1. I would want my recall for the more dire outcomes to be higher because I'd rather suggest people who might die see a doctor immediately than tell them they're probably going to be fine\n",
    "2. Going forward, I would build a layered ensemble model that would have the top tier target be deaths."
   ]
  }
 ],
 "metadata": {
  "kernelspec": {
   "display_name": "Python 3",
   "language": "python",
   "name": "python3"
  },
  "language_info": {
   "codemirror_mode": {
    "name": "ipython",
    "version": 3
   },
   "file_extension": ".py",
   "mimetype": "text/x-python",
   "name": "python",
   "nbconvert_exporter": "python",
   "pygments_lexer": "ipython3",
   "version": "3.6.5"
  }
 },
 "nbformat": 4,
 "nbformat_minor": 2
}
